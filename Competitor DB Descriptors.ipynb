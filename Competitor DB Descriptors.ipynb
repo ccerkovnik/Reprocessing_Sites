{
 "cells": [
  {
   "cell_type": "code",
   "execution_count": 1,
   "metadata": {},
   "outputs": [],
   "source": [
    "import sqlite3\n",
    "import datetime  \n",
    "from collections import Counter\n",
    "import nltk"
   ]
  },
  {
   "cell_type": "code",
   "execution_count": 2,
   "metadata": {},
   "outputs": [],
   "source": [
    "#connecting to the database\n",
    "db = sqlite3.connect(\"reprocessing_competitors.db\") # creating connection to DB\n",
    "cur = db.cursor()"
   ]
  },
  {
   "cell_type": "markdown",
   "metadata": {},
   "source": [
    "I wanted to split up the Stryker and Sterile Med text so I created two seperate tables"
   ]
  },
  {
   "cell_type": "code",
   "execution_count": 3,
   "metadata": {},
   "outputs": [],
   "source": [
    "stryker= cur.execute('''CREATE TABLE IF NOT EXISTS stryker AS\n",
    "                        SELECT * FROM site_text\n",
    "                        WHERE base_url=\"http://sustainability.stryker.com/\"\n",
    "                        GROUP BY dt, base_url, url, text''')\n",
    "db.commit()"
   ]
  },
  {
   "cell_type": "code",
   "execution_count": 4,
   "metadata": {},
   "outputs": [],
   "source": [
    "sterile=cur.execute('''CREATE TABLE IF NOT EXISTS sterile_med AS\n",
    "                        SELECT * FROM site_text\n",
    "                        WHERE base_url=\"https://www.jnjmedicaldevices.com/en-US/service/reprocessing\"\n",
    "                        GROUP BY dt, base_url, url, text''')\n",
    "db.commit()"
   ]
  },
  {
   "cell_type": "code",
   "execution_count": 38,
   "metadata": {},
   "outputs": [],
   "source": [
    "# grabbing all the Stryker raw text and putting it into a list\n",
    "cur.execute('''SELECT distinct text FROM stryker''')\n",
    "sraw_text=[]\n",
    "for row in cur.fetchall() :\n",
    "    sraw_text.append(row[0])\n"
   ]
  },
  {
   "cell_type": "code",
   "execution_count": 21,
   "metadata": {},
   "outputs": [],
   "source": [
    "sw = nltk.corpus.stopwords.words(\"english\")\n"
   ]
  },
  {
   "cell_type": "code",
   "execution_count": 39,
   "metadata": {},
   "outputs": [],
   "source": [
    "#cleaning words\n",
    "swords=[]\n",
    "\n",
    "for text in sraw_text :\n",
    "    text = [word.lower() for word in text.split()] #making all the words lowercase\n",
    "    text = [word.strip() for word in text if word.isalpha()] # only alphabetic characters\n",
    "    text = [word for word in text if word not in sw] # getting rid of nothing words like the, and ,a \n",
    "    swords.extend(text)\n",
    "    "
   ]
  },
  {
   "cell_type": "code",
   "execution_count": 43,
   "metadata": {},
   "outputs": [
    {
     "name": "stdout",
     "output_type": "stream",
     "text": [
      "2193\n"
     ]
    }
   ],
   "source": [
    "#Counting non-stopwords\n",
    "scounter= Counter(swords)\n",
    "stotal=len(scounter)\n",
    "print(stotal)"
   ]
  },
  {
   "cell_type": "code",
   "execution_count": 44,
   "metadata": {},
   "outputs": [],
   "source": [
    "# Repeating above steps for sterile med\n",
    "cur.execute('''SELECT distinct text FROM sterile_med''')\n",
    "jraw_text=[]\n",
    "for row in cur.fetchall() :\n",
    "    jraw_text.append(row[0])\n"
   ]
  },
  {
   "cell_type": "code",
   "execution_count": 45,
   "metadata": {},
   "outputs": [],
   "source": [
    "jwords=[]\n",
    "\n",
    "for text in jraw_text :\n",
    "    text = [word.lower() for word in text.split()]\n",
    "    text = [word.strip() for word in text if word.isalpha()]\n",
    "    text = [word for word in text if word not in sw]\n",
    "    jwords.extend(text)\n",
    "    "
   ]
  },
  {
   "cell_type": "code",
   "execution_count": 47,
   "metadata": {},
   "outputs": [
    {
     "name": "stdout",
     "output_type": "stream",
     "text": [
      "3495\n"
     ]
    }
   ],
   "source": [
    "jcounter= Counter(jwords)\n",
    "jtotal=len(jcounter)\n",
    "print(jtotal)"
   ]
  },
  {
   "cell_type": "code",
   "execution_count": 51,
   "metadata": {
    "scrolled": true
   },
   "outputs": [
    {
     "name": "stdout",
     "output_type": "stream",
     "text": [
      "[('sustainability', 214), ('reprocessed', 186), ('reprocessing', 125), ('patient', 123), ('devices', 122), ('ifu', 118), ('stryker', 115), ('collection', 115), ('cables', 99), ('arthroscopic', 97), ('catheter', 93), ('hygia', 88), ('electrophysiology', 87), ('use', 86), ('savings', 78), ('care', 74), ('quality', 71), ('ep', 69), ('catheters', 67), ('general', 64), ('device', 64), ('environmental', 63), ('products', 62), ('product', 62), ('direct', 62)]\n"
     ]
    }
   ],
   "source": [
    "#getting 25 most used words\n",
    "smostfreq=scounter.most_common(25)\n",
    "print(smostfreq)"
   ]
  },
  {
   "cell_type": "code",
   "execution_count": 50,
   "metadata": {},
   "outputs": [
    {
     "name": "stdout",
     "output_type": "stream",
     "text": [
      "[('johnson', 580), ('use', 258), ('learn', 247), ('view', 240), ('information', 211), ('site', 202), ('products', 195), ('medical', 194), ('jobs', 187), ('system', 180), ('policy', 158), ('health', 142), ('back', 139), ('devices', 137), ('privacy', 132), ('legal', 131), ('healthcare', 125), ('care', 124), ('product', 118), ('new', 115), ('program', 115), ('innovation', 109), ('us', 108), ('global', 108), ('united', 105)]\n"
     ]
    }
   ],
   "source": [
    "jmostfreq=jcounter.most_common(25)\n",
    "print(jmostfreq)"
   ]
  },
  {
   "cell_type": "code",
   "execution_count": 1,
   "metadata": {},
   "outputs": [
    {
     "data": {
      "text/plain": [
       "5688"
      ]
     },
     "execution_count": 1,
     "metadata": {},
     "output_type": "execute_result"
    }
   ],
   "source": [
    "2193+3495"
   ]
  },
  {
   "cell_type": "code",
   "execution_count": null,
   "metadata": {},
   "outputs": [],
   "source": []
  }
 ],
 "metadata": {
  "kernelspec": {
   "display_name": "Python 3",
   "language": "python",
   "name": "python3"
  },
  "language_info": {
   "codemirror_mode": {
    "name": "ipython",
    "version": 3
   },
   "file_extension": ".py",
   "mimetype": "text/x-python",
   "name": "python",
   "nbconvert_exporter": "python",
   "pygments_lexer": "ipython3",
   "version": "3.7.3"
  }
 },
 "nbformat": 4,
 "nbformat_minor": 2
}
